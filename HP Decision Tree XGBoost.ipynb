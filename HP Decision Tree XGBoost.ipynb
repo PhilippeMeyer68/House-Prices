{
 "cells": [
  {
   "cell_type": "markdown",
   "metadata": {},
   "source": [
    "# House prices\n",
    "\n",
    "#### Objective:\n",
    "- Predict sale prices of houses from descriptive data of them\n",
    "\n",
    "#### Model:\n",
    "- Extreme gradient boosting"
   ]
  },
  {
   "cell_type": "code",
   "execution_count": 1,
   "metadata": {},
   "outputs": [
    {
     "name": "stdout",
     "output_type": "stream",
     "text": [
      "Requirement already satisfied: hyperopt in c:\\users\\phili\\anaconda3\\lib\\site-packages (0.2.5)\n",
      "Requirement already satisfied: future in c:\\users\\phili\\anaconda3\\lib\\site-packages (from hyperopt) (0.18.2)\n",
      "Requirement already satisfied: tqdm in c:\\users\\phili\\anaconda3\\lib\\site-packages (from hyperopt) (4.47.0)\n",
      "Requirement already satisfied: cloudpickle in c:\\users\\phili\\anaconda3\\lib\\site-packages (from hyperopt) (1.5.0)\n",
      "Requirement already satisfied: scipy in c:\\users\\phili\\anaconda3\\lib\\site-packages (from hyperopt) (1.5.0)\n",
      "Requirement already satisfied: six in c:\\users\\phili\\anaconda3\\lib\\site-packages (from hyperopt) (1.15.0)\n",
      "Requirement already satisfied: numpy in c:\\users\\phili\\anaconda3\\lib\\site-packages (from hyperopt) (1.18.5)\n",
      "Requirement already satisfied: networkx>=2.2 in c:\\users\\phili\\anaconda3\\lib\\site-packages (from hyperopt) (2.4)\n",
      "Requirement already satisfied: decorator>=4.3.0 in c:\\users\\phili\\anaconda3\\lib\\site-packages (from networkx>=2.2->hyperopt) (4.4.2)\n"
     ]
    }
   ],
   "source": [
    "! pip install hyperopt"
   ]
  },
  {
   "cell_type": "code",
   "execution_count": 2,
   "metadata": {},
   "outputs": [],
   "source": [
    "# Packages needed\n",
    "import pandas as pd\n",
    "pd.options.mode.chained_assignment = None  # default='warn'\n",
    "import numpy as np\n",
    "import seaborn as sns\n",
    "from sklearn import metrics\n",
    "from sklearn.model_selection import train_test_split\n",
    "from sklearn.ensemble import RandomForestRegressor\n",
    "from sklearn.preprocessing import PolynomialFeatures\n",
    "from sklearn.preprocessing import OneHotEncoder\n",
    "from sklearn.decomposition import PCA\n",
    "from sklearn.metrics import mean_squared_log_error\n",
    "from sklearn.metrics import mean_squared_error\n",
    "from scipy.stats import pearsonr\n",
    "from scipy.stats import chi2_contingency\n",
    "from scipy.stats import chi2\n",
    "from sklearn.model_selection import cross_val_score\n",
    "from sklearn.model_selection import GridSearchCV\n",
    "import xgboost as xgb\n",
    "from hyperopt import hp, tpe, fmin\n",
    "import matplotlib.pyplot as plt"
   ]
  },
  {
   "cell_type": "markdown",
   "metadata": {},
   "source": [
    "## Lecture of the dataset and preprocessing"
   ]
  },
  {
   "cell_type": "code",
   "execution_count": 3,
   "metadata": {},
   "outputs": [],
   "source": [
    "#path to dataset\n",
    "#CHANGE AS NEEDED\n",
    "df=pd.read_csv (r'C:\\Users\\phili\\Documents\\Machine Learning\\Kaggle\\House Prices\\train.csv')\n",
    "# Separate X and y\n",
    "y=df[\"SalePrice\"].values\n",
    "df=df.loc[:, df.columns != \"SalePrice\"]"
   ]
  },
  {
   "cell_type": "markdown",
   "metadata": {},
   "source": [
    "- Size and first lines of the dataframe:"
   ]
  },
  {
   "cell_type": "code",
   "execution_count": 4,
   "metadata": {},
   "outputs": [
    {
     "name": "stdout",
     "output_type": "stream",
     "text": [
      "Size of the dataset : (1460, 80)\n"
     ]
    },
    {
     "data": {
      "text/html": [
       "<div>\n",
       "<style scoped>\n",
       "    .dataframe tbody tr th:only-of-type {\n",
       "        vertical-align: middle;\n",
       "    }\n",
       "\n",
       "    .dataframe tbody tr th {\n",
       "        vertical-align: top;\n",
       "    }\n",
       "\n",
       "    .dataframe thead th {\n",
       "        text-align: right;\n",
       "    }\n",
       "</style>\n",
       "<table border=\"1\" class=\"dataframe\">\n",
       "  <thead>\n",
       "    <tr style=\"text-align: right;\">\n",
       "      <th></th>\n",
       "      <th>Id</th>\n",
       "      <th>MSSubClass</th>\n",
       "      <th>MSZoning</th>\n",
       "      <th>LotFrontage</th>\n",
       "      <th>LotArea</th>\n",
       "      <th>Street</th>\n",
       "      <th>Alley</th>\n",
       "      <th>LotShape</th>\n",
       "      <th>LandContour</th>\n",
       "      <th>Utilities</th>\n",
       "      <th>...</th>\n",
       "      <th>ScreenPorch</th>\n",
       "      <th>PoolArea</th>\n",
       "      <th>PoolQC</th>\n",
       "      <th>Fence</th>\n",
       "      <th>MiscFeature</th>\n",
       "      <th>MiscVal</th>\n",
       "      <th>MoSold</th>\n",
       "      <th>YrSold</th>\n",
       "      <th>SaleType</th>\n",
       "      <th>SaleCondition</th>\n",
       "    </tr>\n",
       "  </thead>\n",
       "  <tbody>\n",
       "    <tr>\n",
       "      <th>0</th>\n",
       "      <td>1</td>\n",
       "      <td>60</td>\n",
       "      <td>RL</td>\n",
       "      <td>65.0</td>\n",
       "      <td>8450</td>\n",
       "      <td>Pave</td>\n",
       "      <td>NaN</td>\n",
       "      <td>Reg</td>\n",
       "      <td>Lvl</td>\n",
       "      <td>AllPub</td>\n",
       "      <td>...</td>\n",
       "      <td>0</td>\n",
       "      <td>0</td>\n",
       "      <td>NaN</td>\n",
       "      <td>NaN</td>\n",
       "      <td>NaN</td>\n",
       "      <td>0</td>\n",
       "      <td>2</td>\n",
       "      <td>2008</td>\n",
       "      <td>WD</td>\n",
       "      <td>Normal</td>\n",
       "    </tr>\n",
       "    <tr>\n",
       "      <th>1</th>\n",
       "      <td>2</td>\n",
       "      <td>20</td>\n",
       "      <td>RL</td>\n",
       "      <td>80.0</td>\n",
       "      <td>9600</td>\n",
       "      <td>Pave</td>\n",
       "      <td>NaN</td>\n",
       "      <td>Reg</td>\n",
       "      <td>Lvl</td>\n",
       "      <td>AllPub</td>\n",
       "      <td>...</td>\n",
       "      <td>0</td>\n",
       "      <td>0</td>\n",
       "      <td>NaN</td>\n",
       "      <td>NaN</td>\n",
       "      <td>NaN</td>\n",
       "      <td>0</td>\n",
       "      <td>5</td>\n",
       "      <td>2007</td>\n",
       "      <td>WD</td>\n",
       "      <td>Normal</td>\n",
       "    </tr>\n",
       "    <tr>\n",
       "      <th>2</th>\n",
       "      <td>3</td>\n",
       "      <td>60</td>\n",
       "      <td>RL</td>\n",
       "      <td>68.0</td>\n",
       "      <td>11250</td>\n",
       "      <td>Pave</td>\n",
       "      <td>NaN</td>\n",
       "      <td>IR1</td>\n",
       "      <td>Lvl</td>\n",
       "      <td>AllPub</td>\n",
       "      <td>...</td>\n",
       "      <td>0</td>\n",
       "      <td>0</td>\n",
       "      <td>NaN</td>\n",
       "      <td>NaN</td>\n",
       "      <td>NaN</td>\n",
       "      <td>0</td>\n",
       "      <td>9</td>\n",
       "      <td>2008</td>\n",
       "      <td>WD</td>\n",
       "      <td>Normal</td>\n",
       "    </tr>\n",
       "    <tr>\n",
       "      <th>3</th>\n",
       "      <td>4</td>\n",
       "      <td>70</td>\n",
       "      <td>RL</td>\n",
       "      <td>60.0</td>\n",
       "      <td>9550</td>\n",
       "      <td>Pave</td>\n",
       "      <td>NaN</td>\n",
       "      <td>IR1</td>\n",
       "      <td>Lvl</td>\n",
       "      <td>AllPub</td>\n",
       "      <td>...</td>\n",
       "      <td>0</td>\n",
       "      <td>0</td>\n",
       "      <td>NaN</td>\n",
       "      <td>NaN</td>\n",
       "      <td>NaN</td>\n",
       "      <td>0</td>\n",
       "      <td>2</td>\n",
       "      <td>2006</td>\n",
       "      <td>WD</td>\n",
       "      <td>Abnorml</td>\n",
       "    </tr>\n",
       "    <tr>\n",
       "      <th>4</th>\n",
       "      <td>5</td>\n",
       "      <td>60</td>\n",
       "      <td>RL</td>\n",
       "      <td>84.0</td>\n",
       "      <td>14260</td>\n",
       "      <td>Pave</td>\n",
       "      <td>NaN</td>\n",
       "      <td>IR1</td>\n",
       "      <td>Lvl</td>\n",
       "      <td>AllPub</td>\n",
       "      <td>...</td>\n",
       "      <td>0</td>\n",
       "      <td>0</td>\n",
       "      <td>NaN</td>\n",
       "      <td>NaN</td>\n",
       "      <td>NaN</td>\n",
       "      <td>0</td>\n",
       "      <td>12</td>\n",
       "      <td>2008</td>\n",
       "      <td>WD</td>\n",
       "      <td>Normal</td>\n",
       "    </tr>\n",
       "  </tbody>\n",
       "</table>\n",
       "<p>5 rows × 80 columns</p>\n",
       "</div>"
      ],
      "text/plain": [
       "   Id  MSSubClass MSZoning  LotFrontage  LotArea Street Alley LotShape  \\\n",
       "0   1          60       RL         65.0     8450   Pave   NaN      Reg   \n",
       "1   2          20       RL         80.0     9600   Pave   NaN      Reg   \n",
       "2   3          60       RL         68.0    11250   Pave   NaN      IR1   \n",
       "3   4          70       RL         60.0     9550   Pave   NaN      IR1   \n",
       "4   5          60       RL         84.0    14260   Pave   NaN      IR1   \n",
       "\n",
       "  LandContour Utilities  ... ScreenPorch PoolArea PoolQC Fence MiscFeature  \\\n",
       "0         Lvl    AllPub  ...           0        0    NaN   NaN         NaN   \n",
       "1         Lvl    AllPub  ...           0        0    NaN   NaN         NaN   \n",
       "2         Lvl    AllPub  ...           0        0    NaN   NaN         NaN   \n",
       "3         Lvl    AllPub  ...           0        0    NaN   NaN         NaN   \n",
       "4         Lvl    AllPub  ...           0        0    NaN   NaN         NaN   \n",
       "\n",
       "  MiscVal MoSold  YrSold  SaleType  SaleCondition  \n",
       "0       0      2    2008        WD         Normal  \n",
       "1       0      5    2007        WD         Normal  \n",
       "2       0      9    2008        WD         Normal  \n",
       "3       0      2    2006        WD        Abnorml  \n",
       "4       0     12    2008        WD         Normal  \n",
       "\n",
       "[5 rows x 80 columns]"
      ]
     },
     "execution_count": 4,
     "metadata": {},
     "output_type": "execute_result"
    }
   ],
   "source": [
    "print(\"Size of the dataset :\",df.shape)\n",
    "df.head()"
   ]
  },
  {
   "cell_type": "markdown",
   "metadata": {},
   "source": [
    "- The two first columns look similar, check and delete one. Verify if some features are in double"
   ]
  },
  {
   "cell_type": "code",
   "execution_count": 5,
   "metadata": {},
   "outputs": [
    {
     "name": "stdout",
     "output_type": "stream",
     "text": [
      "True\n"
     ]
    }
   ],
   "source": [
    "if np.array_equal(df.index.tolist(),np.array(df[\"Id\"].tolist())-1):\n",
    "    print(\"True\")\n",
    "    del df[\"Id\"]\n",
    "    \n",
    "# Check for features in double\n",
    "feature_names = df.columns.tolist()\n",
    "for i in range(len(feature_names)):\n",
    "    if feature_names.count(feature_names[i])!=1:\n",
    "        print(feature_names[i])"
   ]
  },
  {
   "cell_type": "markdown",
   "metadata": {},
   "source": [
    "- Some statistics of the dataframe"
   ]
  },
  {
   "cell_type": "code",
   "execution_count": 6,
   "metadata": {},
   "outputs": [
    {
     "data": {
      "text/html": [
       "<div>\n",
       "<style scoped>\n",
       "    .dataframe tbody tr th:only-of-type {\n",
       "        vertical-align: middle;\n",
       "    }\n",
       "\n",
       "    .dataframe tbody tr th {\n",
       "        vertical-align: top;\n",
       "    }\n",
       "\n",
       "    .dataframe thead th {\n",
       "        text-align: right;\n",
       "    }\n",
       "</style>\n",
       "<table border=\"1\" class=\"dataframe\">\n",
       "  <thead>\n",
       "    <tr style=\"text-align: right;\">\n",
       "      <th></th>\n",
       "      <th>MSSubClass</th>\n",
       "      <th>LotFrontage</th>\n",
       "      <th>LotArea</th>\n",
       "      <th>OverallQual</th>\n",
       "      <th>OverallCond</th>\n",
       "      <th>YearBuilt</th>\n",
       "      <th>YearRemodAdd</th>\n",
       "      <th>MasVnrArea</th>\n",
       "      <th>BsmtFinSF1</th>\n",
       "      <th>BsmtFinSF2</th>\n",
       "      <th>...</th>\n",
       "      <th>GarageArea</th>\n",
       "      <th>WoodDeckSF</th>\n",
       "      <th>OpenPorchSF</th>\n",
       "      <th>EnclosedPorch</th>\n",
       "      <th>3SsnPorch</th>\n",
       "      <th>ScreenPorch</th>\n",
       "      <th>PoolArea</th>\n",
       "      <th>MiscVal</th>\n",
       "      <th>MoSold</th>\n",
       "      <th>YrSold</th>\n",
       "    </tr>\n",
       "  </thead>\n",
       "  <tbody>\n",
       "    <tr>\n",
       "      <th>count</th>\n",
       "      <td>1460.000000</td>\n",
       "      <td>1201.000000</td>\n",
       "      <td>1460.000000</td>\n",
       "      <td>1460.000000</td>\n",
       "      <td>1460.000000</td>\n",
       "      <td>1460.000000</td>\n",
       "      <td>1460.000000</td>\n",
       "      <td>1452.000000</td>\n",
       "      <td>1460.000000</td>\n",
       "      <td>1460.000000</td>\n",
       "      <td>...</td>\n",
       "      <td>1460.000000</td>\n",
       "      <td>1460.000000</td>\n",
       "      <td>1460.000000</td>\n",
       "      <td>1460.000000</td>\n",
       "      <td>1460.000000</td>\n",
       "      <td>1460.000000</td>\n",
       "      <td>1460.000000</td>\n",
       "      <td>1460.000000</td>\n",
       "      <td>1460.000000</td>\n",
       "      <td>1460.000000</td>\n",
       "    </tr>\n",
       "    <tr>\n",
       "      <th>mean</th>\n",
       "      <td>56.897260</td>\n",
       "      <td>70.049958</td>\n",
       "      <td>10516.828082</td>\n",
       "      <td>6.099315</td>\n",
       "      <td>5.575342</td>\n",
       "      <td>1971.267808</td>\n",
       "      <td>1984.865753</td>\n",
       "      <td>103.685262</td>\n",
       "      <td>443.639726</td>\n",
       "      <td>46.549315</td>\n",
       "      <td>...</td>\n",
       "      <td>472.980137</td>\n",
       "      <td>94.244521</td>\n",
       "      <td>46.660274</td>\n",
       "      <td>21.954110</td>\n",
       "      <td>3.409589</td>\n",
       "      <td>15.060959</td>\n",
       "      <td>2.758904</td>\n",
       "      <td>43.489041</td>\n",
       "      <td>6.321918</td>\n",
       "      <td>2007.815753</td>\n",
       "    </tr>\n",
       "    <tr>\n",
       "      <th>std</th>\n",
       "      <td>42.300571</td>\n",
       "      <td>24.284752</td>\n",
       "      <td>9981.264932</td>\n",
       "      <td>1.382997</td>\n",
       "      <td>1.112799</td>\n",
       "      <td>30.202904</td>\n",
       "      <td>20.645407</td>\n",
       "      <td>181.066207</td>\n",
       "      <td>456.098091</td>\n",
       "      <td>161.319273</td>\n",
       "      <td>...</td>\n",
       "      <td>213.804841</td>\n",
       "      <td>125.338794</td>\n",
       "      <td>66.256028</td>\n",
       "      <td>61.119149</td>\n",
       "      <td>29.317331</td>\n",
       "      <td>55.757415</td>\n",
       "      <td>40.177307</td>\n",
       "      <td>496.123024</td>\n",
       "      <td>2.703626</td>\n",
       "      <td>1.328095</td>\n",
       "    </tr>\n",
       "    <tr>\n",
       "      <th>min</th>\n",
       "      <td>20.000000</td>\n",
       "      <td>21.000000</td>\n",
       "      <td>1300.000000</td>\n",
       "      <td>1.000000</td>\n",
       "      <td>1.000000</td>\n",
       "      <td>1872.000000</td>\n",
       "      <td>1950.000000</td>\n",
       "      <td>0.000000</td>\n",
       "      <td>0.000000</td>\n",
       "      <td>0.000000</td>\n",
       "      <td>...</td>\n",
       "      <td>0.000000</td>\n",
       "      <td>0.000000</td>\n",
       "      <td>0.000000</td>\n",
       "      <td>0.000000</td>\n",
       "      <td>0.000000</td>\n",
       "      <td>0.000000</td>\n",
       "      <td>0.000000</td>\n",
       "      <td>0.000000</td>\n",
       "      <td>1.000000</td>\n",
       "      <td>2006.000000</td>\n",
       "    </tr>\n",
       "    <tr>\n",
       "      <th>25%</th>\n",
       "      <td>20.000000</td>\n",
       "      <td>59.000000</td>\n",
       "      <td>7553.500000</td>\n",
       "      <td>5.000000</td>\n",
       "      <td>5.000000</td>\n",
       "      <td>1954.000000</td>\n",
       "      <td>1967.000000</td>\n",
       "      <td>0.000000</td>\n",
       "      <td>0.000000</td>\n",
       "      <td>0.000000</td>\n",
       "      <td>...</td>\n",
       "      <td>334.500000</td>\n",
       "      <td>0.000000</td>\n",
       "      <td>0.000000</td>\n",
       "      <td>0.000000</td>\n",
       "      <td>0.000000</td>\n",
       "      <td>0.000000</td>\n",
       "      <td>0.000000</td>\n",
       "      <td>0.000000</td>\n",
       "      <td>5.000000</td>\n",
       "      <td>2007.000000</td>\n",
       "    </tr>\n",
       "    <tr>\n",
       "      <th>50%</th>\n",
       "      <td>50.000000</td>\n",
       "      <td>69.000000</td>\n",
       "      <td>9478.500000</td>\n",
       "      <td>6.000000</td>\n",
       "      <td>5.000000</td>\n",
       "      <td>1973.000000</td>\n",
       "      <td>1994.000000</td>\n",
       "      <td>0.000000</td>\n",
       "      <td>383.500000</td>\n",
       "      <td>0.000000</td>\n",
       "      <td>...</td>\n",
       "      <td>480.000000</td>\n",
       "      <td>0.000000</td>\n",
       "      <td>25.000000</td>\n",
       "      <td>0.000000</td>\n",
       "      <td>0.000000</td>\n",
       "      <td>0.000000</td>\n",
       "      <td>0.000000</td>\n",
       "      <td>0.000000</td>\n",
       "      <td>6.000000</td>\n",
       "      <td>2008.000000</td>\n",
       "    </tr>\n",
       "    <tr>\n",
       "      <th>75%</th>\n",
       "      <td>70.000000</td>\n",
       "      <td>80.000000</td>\n",
       "      <td>11601.500000</td>\n",
       "      <td>7.000000</td>\n",
       "      <td>6.000000</td>\n",
       "      <td>2000.000000</td>\n",
       "      <td>2004.000000</td>\n",
       "      <td>166.000000</td>\n",
       "      <td>712.250000</td>\n",
       "      <td>0.000000</td>\n",
       "      <td>...</td>\n",
       "      <td>576.000000</td>\n",
       "      <td>168.000000</td>\n",
       "      <td>68.000000</td>\n",
       "      <td>0.000000</td>\n",
       "      <td>0.000000</td>\n",
       "      <td>0.000000</td>\n",
       "      <td>0.000000</td>\n",
       "      <td>0.000000</td>\n",
       "      <td>8.000000</td>\n",
       "      <td>2009.000000</td>\n",
       "    </tr>\n",
       "    <tr>\n",
       "      <th>max</th>\n",
       "      <td>190.000000</td>\n",
       "      <td>313.000000</td>\n",
       "      <td>215245.000000</td>\n",
       "      <td>10.000000</td>\n",
       "      <td>9.000000</td>\n",
       "      <td>2010.000000</td>\n",
       "      <td>2010.000000</td>\n",
       "      <td>1600.000000</td>\n",
       "      <td>5644.000000</td>\n",
       "      <td>1474.000000</td>\n",
       "      <td>...</td>\n",
       "      <td>1418.000000</td>\n",
       "      <td>857.000000</td>\n",
       "      <td>547.000000</td>\n",
       "      <td>552.000000</td>\n",
       "      <td>508.000000</td>\n",
       "      <td>480.000000</td>\n",
       "      <td>738.000000</td>\n",
       "      <td>15500.000000</td>\n",
       "      <td>12.000000</td>\n",
       "      <td>2010.000000</td>\n",
       "    </tr>\n",
       "  </tbody>\n",
       "</table>\n",
       "<p>8 rows × 36 columns</p>\n",
       "</div>"
      ],
      "text/plain": [
       "        MSSubClass  LotFrontage        LotArea  OverallQual  OverallCond  \\\n",
       "count  1460.000000  1201.000000    1460.000000  1460.000000  1460.000000   \n",
       "mean     56.897260    70.049958   10516.828082     6.099315     5.575342   \n",
       "std      42.300571    24.284752    9981.264932     1.382997     1.112799   \n",
       "min      20.000000    21.000000    1300.000000     1.000000     1.000000   \n",
       "25%      20.000000    59.000000    7553.500000     5.000000     5.000000   \n",
       "50%      50.000000    69.000000    9478.500000     6.000000     5.000000   \n",
       "75%      70.000000    80.000000   11601.500000     7.000000     6.000000   \n",
       "max     190.000000   313.000000  215245.000000    10.000000     9.000000   \n",
       "\n",
       "         YearBuilt  YearRemodAdd   MasVnrArea   BsmtFinSF1   BsmtFinSF2  ...  \\\n",
       "count  1460.000000   1460.000000  1452.000000  1460.000000  1460.000000  ...   \n",
       "mean   1971.267808   1984.865753   103.685262   443.639726    46.549315  ...   \n",
       "std      30.202904     20.645407   181.066207   456.098091   161.319273  ...   \n",
       "min    1872.000000   1950.000000     0.000000     0.000000     0.000000  ...   \n",
       "25%    1954.000000   1967.000000     0.000000     0.000000     0.000000  ...   \n",
       "50%    1973.000000   1994.000000     0.000000   383.500000     0.000000  ...   \n",
       "75%    2000.000000   2004.000000   166.000000   712.250000     0.000000  ...   \n",
       "max    2010.000000   2010.000000  1600.000000  5644.000000  1474.000000  ...   \n",
       "\n",
       "        GarageArea   WoodDeckSF  OpenPorchSF  EnclosedPorch    3SsnPorch  \\\n",
       "count  1460.000000  1460.000000  1460.000000    1460.000000  1460.000000   \n",
       "mean    472.980137    94.244521    46.660274      21.954110     3.409589   \n",
       "std     213.804841   125.338794    66.256028      61.119149    29.317331   \n",
       "min       0.000000     0.000000     0.000000       0.000000     0.000000   \n",
       "25%     334.500000     0.000000     0.000000       0.000000     0.000000   \n",
       "50%     480.000000     0.000000    25.000000       0.000000     0.000000   \n",
       "75%     576.000000   168.000000    68.000000       0.000000     0.000000   \n",
       "max    1418.000000   857.000000   547.000000     552.000000   508.000000   \n",
       "\n",
       "       ScreenPorch     PoolArea       MiscVal       MoSold       YrSold  \n",
       "count  1460.000000  1460.000000   1460.000000  1460.000000  1460.000000  \n",
       "mean     15.060959     2.758904     43.489041     6.321918  2007.815753  \n",
       "std      55.757415    40.177307    496.123024     2.703626     1.328095  \n",
       "min       0.000000     0.000000      0.000000     1.000000  2006.000000  \n",
       "25%       0.000000     0.000000      0.000000     5.000000  2007.000000  \n",
       "50%       0.000000     0.000000      0.000000     6.000000  2008.000000  \n",
       "75%       0.000000     0.000000      0.000000     8.000000  2009.000000  \n",
       "max     480.000000   738.000000  15500.000000    12.000000  2010.000000  \n",
       "\n",
       "[8 rows x 36 columns]"
      ]
     },
     "execution_count": 6,
     "metadata": {},
     "output_type": "execute_result"
    }
   ],
   "source": [
    "df.describe()"
   ]
  },
  {
   "cell_type": "markdown",
   "metadata": {},
   "source": [
    "- Types of features and change int to floats"
   ]
  },
  {
   "cell_type": "code",
   "execution_count": 7,
   "metadata": {},
   "outputs": [
    {
     "name": "stdout",
     "output_type": "stream",
     "text": [
      "Number of continuous features :  3 , of int features :  33 , of categorical features :  43 \n",
      "\n"
     ]
    }
   ],
   "source": [
    "# Looks at types and change int to floats\n",
    "numbInt=0\n",
    "numbCont=0\n",
    "numbCat=0\n",
    "for x in df.columns:\n",
    "    if(df[x].dtype==np.float64):\n",
    "        numbCont+=1\n",
    "    if(df[x].dtype==np.int64):\n",
    "        numbInt+=1\n",
    "        df[x]=df[x].astype(float) # if we want to transform all the int features to float features\n",
    "    elif(df[x].dtype==np.object):\n",
    "        numbCat+=1\n",
    "print(\"Number of continuous features : \" , numbCont,\", of int features : \" , numbInt,\", of categorical features : \" , numbCat , \"\\n\")"
   ]
  },
  {
   "cell_type": "markdown",
   "metadata": {},
   "source": [
    "- Check is the categorical features look badly filled"
   ]
  },
  {
   "cell_type": "code",
   "execution_count": 8,
   "metadata": {},
   "outputs": [
    {
     "name": "stdout",
     "output_type": "stream",
     "text": [
      "Values of feature MSZoning : ['RL' 'RM' 'C (all)' 'FV' 'RH']\n",
      "Values of feature Street : ['Pave' 'Grvl']\n",
      "Values of feature Alley : [nan 'Grvl' 'Pave']\n",
      "Values of feature LotShape : ['Reg' 'IR1' 'IR2' 'IR3']\n",
      "Values of feature LandContour : ['Lvl' 'Bnk' 'Low' 'HLS']\n",
      "Values of feature Utilities : ['AllPub' 'NoSeWa']\n",
      "Values of feature LotConfig : ['Inside' 'FR2' 'Corner' 'CulDSac' 'FR3']\n",
      "Values of feature LandSlope : ['Gtl' 'Mod' 'Sev']\n",
      "Values of feature Neighborhood : ['CollgCr' 'Veenker' 'Crawfor' 'NoRidge' 'Mitchel' 'Somerst' 'NWAmes'\n",
      " 'OldTown' 'BrkSide' 'Sawyer' 'NridgHt' 'NAmes' 'SawyerW' 'IDOTRR'\n",
      " 'MeadowV' 'Edwards' 'Timber' 'Gilbert' 'StoneBr' 'ClearCr' 'NPkVill'\n",
      " 'Blmngtn' 'BrDale' 'SWISU' 'Blueste']\n",
      "Values of feature Condition1 : ['Norm' 'Feedr' 'PosN' 'Artery' 'RRAe' 'RRNn' 'RRAn' 'PosA' 'RRNe']\n",
      "Values of feature Condition2 : ['Norm' 'Artery' 'RRNn' 'Feedr' 'PosN' 'PosA' 'RRAn' 'RRAe']\n",
      "Values of feature BldgType : ['1Fam' '2fmCon' 'Duplex' 'TwnhsE' 'Twnhs']\n",
      "Values of feature HouseStyle : ['2Story' '1Story' '1.5Fin' '1.5Unf' 'SFoyer' 'SLvl' '2.5Unf' '2.5Fin']\n",
      "Values of feature RoofStyle : ['Gable' 'Hip' 'Gambrel' 'Mansard' 'Flat' 'Shed']\n",
      "Values of feature RoofMatl : ['CompShg' 'WdShngl' 'Metal' 'WdShake' 'Membran' 'Tar&Grv' 'Roll'\n",
      " 'ClyTile']\n",
      "Values of feature Exterior1st : ['VinylSd' 'MetalSd' 'Wd Sdng' 'HdBoard' 'BrkFace' 'WdShing' 'CemntBd'\n",
      " 'Plywood' 'AsbShng' 'Stucco' 'BrkComm' 'AsphShn' 'Stone' 'ImStucc'\n",
      " 'CBlock']\n",
      "Values of feature Exterior2nd : ['VinylSd' 'MetalSd' 'Wd Shng' 'HdBoard' 'Plywood' 'Wd Sdng' 'CmentBd'\n",
      " 'BrkFace' 'Stucco' 'AsbShng' 'Brk Cmn' 'ImStucc' 'AsphShn' 'Stone'\n",
      " 'Other' 'CBlock']\n",
      "Values of feature MasVnrType : ['BrkFace' 'None' 'Stone' 'BrkCmn' nan]\n",
      "Values of feature ExterQual : ['Gd' 'TA' 'Ex' 'Fa']\n",
      "Values of feature ExterCond : ['TA' 'Gd' 'Fa' 'Po' 'Ex']\n",
      "Values of feature Foundation : ['PConc' 'CBlock' 'BrkTil' 'Wood' 'Slab' 'Stone']\n",
      "Values of feature BsmtQual : ['Gd' 'TA' 'Ex' nan 'Fa']\n",
      "Values of feature BsmtCond : ['TA' 'Gd' nan 'Fa' 'Po']\n",
      "Values of feature BsmtExposure : ['No' 'Gd' 'Mn' 'Av' nan]\n",
      "Values of feature BsmtFinType1 : ['GLQ' 'ALQ' 'Unf' 'Rec' 'BLQ' nan 'LwQ']\n",
      "Values of feature BsmtFinType2 : ['Unf' 'BLQ' nan 'ALQ' 'Rec' 'LwQ' 'GLQ']\n",
      "Values of feature Heating : ['GasA' 'GasW' 'Grav' 'Wall' 'OthW' 'Floor']\n",
      "Values of feature HeatingQC : ['Ex' 'Gd' 'TA' 'Fa' 'Po']\n",
      "Values of feature CentralAir : ['Y' 'N']\n",
      "Values of feature Electrical : ['SBrkr' 'FuseF' 'FuseA' 'FuseP' 'Mix' nan]\n",
      "Values of feature KitchenQual : ['Gd' 'TA' 'Ex' 'Fa']\n",
      "Values of feature Functional : ['Typ' 'Min1' 'Maj1' 'Min2' 'Mod' 'Maj2' 'Sev']\n",
      "Values of feature FireplaceQu : [nan 'TA' 'Gd' 'Fa' 'Ex' 'Po']\n",
      "Values of feature GarageType : ['Attchd' 'Detchd' 'BuiltIn' 'CarPort' nan 'Basment' '2Types']\n",
      "Values of feature GarageFinish : ['RFn' 'Unf' 'Fin' nan]\n",
      "Values of feature GarageQual : ['TA' 'Fa' 'Gd' nan 'Ex' 'Po']\n",
      "Values of feature GarageCond : ['TA' 'Fa' nan 'Gd' 'Po' 'Ex']\n",
      "Values of feature PavedDrive : ['Y' 'N' 'P']\n",
      "Values of feature PoolQC : [nan 'Ex' 'Fa' 'Gd']\n",
      "Values of feature Fence : [nan 'MnPrv' 'GdWo' 'GdPrv' 'MnWw']\n",
      "Values of feature MiscFeature : [nan 'Shed' 'Gar2' 'Othr' 'TenC']\n",
      "Values of feature SaleType : ['WD' 'New' 'COD' 'ConLD' 'ConLI' 'CWD' 'ConLw' 'Con' 'Oth']\n",
      "Values of feature SaleCondition : ['Normal' 'Abnorml' 'Partial' 'AdjLand' 'Alloca' 'Family']\n"
     ]
    }
   ],
   "source": [
    "for x in df.columns:\n",
    "    if(df[x].dtype==np.object):\n",
    "        print(\"Values of feature\", x, \":\",df[x].unique())"
   ]
  },
  {
   "cell_type": "markdown",
   "metadata": {},
   "source": [
    "- Log transform of the target feature to obtain a normally distributed variable"
   ]
  },
  {
   "cell_type": "code",
   "execution_count": 9,
   "metadata": {},
   "outputs": [
    {
     "data": {
      "image/png": "[encoded data removed]",
      "text/plain": [
       "<Figure size 720x360 with 1 Axes>"
      ]
     },
     "metadata": {
      "needs_background": "light"
     },
     "output_type": "display_data"
    }
   ],
   "source": [
    "plt.figure(figsize=(10, 5))\n",
    "sns.distplot(y).set(ylabel=None, xlabel=None)\n",
    "plt.title('House price distribution histogram', fontsize=18)\n",
    "plt.show()"
   ]
  },
  {
   "cell_type": "code",
   "execution_count": 10,
   "metadata": {},
   "outputs": [
    {
     "data": {
      "image/png": "[encoded data removed]",
      "text/plain": [
       "<Figure size 720x360 with 1 Axes>"
      ]
     },
     "metadata": {
      "needs_background": "light"
     },
     "output_type": "display_data"
    }
   ],
   "source": [
    "y=np.log1p(y)\n",
    "plt.figure(figsize=(10, 5))\n",
    "sns.distplot(y).set(ylabel=None, xlabel=None)\n",
    "plt.title('House price distribution histogram', fontsize=18)\n",
    "plt.show()"
   ]
  },
  {
   "cell_type": "markdown",
   "metadata": {},
   "source": [
    "- Creation of two new features: the total surface and the total number of baths"
   ]
  },
  {
   "cell_type": "code",
   "execution_count": 11,
   "metadata": {},
   "outputs": [],
   "source": [
    "df['TotalSF'] = df['GrLivArea']+df['TotalBsmtSF']\n",
    "df['TotalBaths'] = df['FullBath']+.5*df['HalfBath']"
   ]
  },
  {
   "cell_type": "markdown",
   "metadata": {},
   "source": [
    "- New binary feature remodeling or not"
   ]
  },
  {
   "cell_type": "code",
   "execution_count": 12,
   "metadata": {},
   "outputs": [],
   "source": [
    "newcol=[]\n",
    "for i in range(len(df[\"YearRemodAdd\"])):\n",
    "    if df[\"YearRemodAdd\"][i]!=df[\"YearRemodAdd\"][i] or df[\"YearBuilt\"][i]!=df[\"YearBuilt\"][i]:\n",
    "        newcol.append(np.nan)\n",
    "    else:\n",
    "        if df[\"YearRemodAdd\"][i]==df[\"YearBuilt\"][i]:\n",
    "            newcol.append(0)\n",
    "        else:\n",
    "            newcol.append(1)\n",
    "df[\"Remodornot\"]=newcol"
   ]
  },
  {
   "cell_type": "markdown",
   "metadata": {},
   "source": [
    "- Fill missing values in FireplaceQu using Fireplaces"
   ]
  },
  {
   "cell_type": "code",
   "execution_count": 13,
   "metadata": {},
   "outputs": [],
   "source": [
    "for i in range(len(df[\"FireplaceQu\"])):\n",
    "    if df[\"Fireplaces\"][i]==0:\n",
    "        df[\"FireplaceQu\"][i]=\"NA\""
   ]
  },
  {
   "cell_type": "markdown",
   "metadata": {},
   "source": [
    "- Fill missing values for features related to garage"
   ]
  },
  {
   "cell_type": "code",
   "execution_count": 14,
   "metadata": {},
   "outputs": [
    {
     "data": {
      "text/plain": [
       "'\\nfor i in range(len(df[\"GarageCond\"])):\\n    if df[\"GarageCond\"][i]!=df[\"GarageCond\"][i]:\\n        df[\"GarageCond\"][i]=\"NA\"\\n        df[\"GarageQual\"][i]=\"NA\"\\n        df[\"GarageFinish\"][i]=\"NA\"\\n        df[\"GarageType\"][i]=\"NA\"\\n'"
      ]
     },
     "execution_count": 14,
     "metadata": {},
     "output_type": "execute_result"
    }
   ],
   "source": [
    "\"\"\"\n",
    "for i in range(len(df[\"GarageCond\"])):\n",
    "    if df[\"GarageCond\"][i]!=df[\"GarageCond\"][i]:\n",
    "        df[\"GarageCond\"][i]=\"NA\"\n",
    "        df[\"GarageQual\"][i]=\"NA\"\n",
    "        df[\"GarageFinish\"][i]=\"NA\"\n",
    "        df[\"GarageType\"][i]=\"NA\"\n",
    "\"\"\""
   ]
  },
  {
   "cell_type": "markdown",
   "metadata": {},
   "source": [
    "- Label encoding for some features"
   ]
  },
  {
   "cell_type": "code",
   "execution_count": 15,
   "metadata": {},
   "outputs": [],
   "source": [
    "def labelenc(col,label):\n",
    "    dicLabel={}\n",
    "    for i in range(len(label)):\n",
    "        dicLabel[label[i]]=i\n",
    "    newcol=[]\n",
    "    for i in range(len(col)):\n",
    "        if col[i]!=col[i]:\n",
    "            newcol.append(np.nan)\n",
    "        else:\n",
    "            newcol.append(dicLabel[col[i]])\n",
    "    return newcol"
   ]
  },
  {
   "cell_type": "code",
   "execution_count": 16,
   "metadata": {},
   "outputs": [],
   "source": [
    "df[\"LotShape\"]=labelenc(df[\"LotShape\"].values,[\"IR3\",\"IR2\",\"IR1\",\"Reg\"])\n",
    "df[\"Utilities\"]=labelenc(df[\"Utilities\"].values,[\"ELO\",\"NoSeWa\",\"NoSewr\",\"AllPub\"])\n",
    "#df[\"LotConfig\"]=labelenc(df[\"LotConfig\"].values,[\"FR3\",\"FR2\",\"CulDSac\",\"Corner\",\"Inside\"])\n",
    "df[\"LandSlope\"]=labelenc(df[\"LandSlope\"].values,[\"Sev\",\"Mod\",\"Gtl\"])\n",
    "df[\"ExterQual\"]=labelenc(df[\"ExterQual\"].values,[\"Po\",\"Fa\",\"TA\",\"Gd\",\"Ex\"])\n",
    "df[\"ExterCond\"]=labelenc(df[\"ExterCond\"].values,[\"Po\",\"Fa\",\"TA\",\"Gd\",\"Ex\"])\n",
    "df[\"BsmtQual\"]=labelenc(df[\"BsmtQual\"].values,[\"NA\",\"Po\",\"Fa\",\"TA\",\"Gd\",\"Ex\"])\n",
    "df[\"BsmtCond\"]=labelenc(df[\"BsmtCond\"].values,[\"NA\",\"Po\",\"Fa\",\"TA\",\"Gd\",\"Ex\"])\n",
    "df[\"BsmtExposure\"]=labelenc(df[\"BsmtExposure\"].values,[\"NA\",\"No\",\"Mn\",\"Av\",\"Gd\"])\n",
    "df[\"BsmtFinType1\"]=labelenc(df[\"BsmtFinType1\"].values,[\"NA\",\"Unf\",\"LwQ\",\"Rec\",\"BLQ\",\"ALQ\",\"GLQ\"])\n",
    "df[\"BsmtFinType2\"]=labelenc(df[\"BsmtFinType2\"].values,[\"NA\",\"Unf\",\"LwQ\",\"Rec\",\"BLQ\",\"ALQ\",\"GLQ\"])\n",
    "df[\"HeatingQC\"]=labelenc(df[\"HeatingQC\"].values,[\"Po\",\"Fa\",\"TA\",\"Gd\",\"Ex\"])\n",
    "#df[\"Electrical\"]=labelenc(df[\"Electrical\"].values,[\"Mix\",\"FuseP\",\"FuseF\",\"FuseA\",\"SBrkr\"])\n",
    "df[\"KitchenQual\"]=labelenc(df[\"KitchenQual\"].values,[\"Po\",\"Fa\",\"TA\",\"Gd\",\"Ex\"])\n",
    "df[\"Functional\"]=labelenc(df[\"Functional\"].values,[\"Sal\",\"Sev\",\"Maj2\",\"Maj1\",\"Mod\",\"Min2\",\"Min1\",\"Typ\"])\n",
    "df[\"FireplaceQu\"]=labelenc(df[\"FireplaceQu\"].values,[\"NA\",\"Po\",\"Fa\",\"TA\",\"Gd\",\"Ex\"])\n",
    "df[\"GarageFinish\"]=labelenc(df[\"GarageFinish\"].values,[\"NA\",\"Unf\",\"RFn\",\"Fin\"])\n",
    "df[\"GarageQual\"]=labelenc(df[\"GarageQual\"].values,[\"NA\",\"Po\",\"Fa\",\"TA\",\"Gd\",\"Ex\"])\n",
    "df[\"GarageCond\"]=labelenc(df[\"GarageCond\"].values,[\"NA\",\"Po\",\"Fa\",\"TA\",\"Gd\",\"Ex\"])\n",
    "df[\"PavedDrive\"]=labelenc(df[\"PavedDrive\"].values,[\"N\",\"P\",\"Y\"])\n",
    "df[\"CentralAir\"]=labelenc(df[\"CentralAir\"].values,[\"N\",\"Y\"])\n",
    "\n",
    "for x in df.columns:\n",
    "    if(df[x].dtype==np.int64):\n",
    "        df[x]=df[x].astype(float) # if we want to transform all the int features to float features"
   ]
  },
  {
   "cell_type": "markdown",
   "metadata": {},
   "source": [
    "- Change the types of some numerical features that should be categorical (nominal)"
   ]
  },
  {
   "cell_type": "code",
   "execution_count": 17,
   "metadata": {},
   "outputs": [],
   "source": [
    "df[\"MSSubClass\"] = df[\"MSSubClass\"].astype(str)\n",
    "df[\"YrSold\"] = df[\"YrSold\"].astype(str)\n",
    "df[\"MoSold\"] = df[\"MoSold\"].astype(str)"
   ]
  },
  {
   "cell_type": "markdown",
   "metadata": {},
   "source": [
    "## Machine Learning\n",
    "##### Model: Extreme gradient boosting"
   ]
  },
  {
   "cell_type": "markdown",
   "metadata": {},
   "source": [
    "- Split Train and Test"
   ]
  },
  {
   "cell_type": "code",
   "execution_count": 18,
   "metadata": {},
   "outputs": [
    {
     "name": "stdout",
     "output_type": "stream",
     "text": [
      "(1022, 82) (438, 82)\n"
     ]
    }
   ],
   "source": [
    "# Split train and test\n",
    "X=df\n",
    "\n",
    "X_train, X_test, y_train, y_test = train_test_split(X, y, test_size=0.3, random_state=1)\n",
    "print(X_train.shape,X_test.shape)"
   ]
  },
  {
   "cell_type": "markdown",
   "metadata": {},
   "source": [
    "- Mean normalisation"
   ]
  },
  {
   "cell_type": "code",
   "execution_count": 19,
   "metadata": {
    "scrolled": true
   },
   "outputs": [],
   "source": [
    "# Mean normalisation for continuous and int columns\n",
    "dictMeanStd={}\n",
    "for x in X_train.columns:\n",
    "    if (X_train[x].dtype!=np.object):\n",
    "        dictMeanStd[x]=[X_train[x].mean(),X_train[x].std()]\n",
    "        X_train[x]=(X_train[x]-dictMeanStd[x][0])/dictMeanStd[x][1]"
   ]
  },
  {
   "cell_type": "markdown",
   "metadata": {},
   "source": [
    "- Handle missing values"
   ]
  },
  {
   "cell_type": "code",
   "execution_count": 20,
   "metadata": {},
   "outputs": [
    {
     "name": "stdout",
     "output_type": "stream",
     "text": [
      "Number of lines where at least one value is missing 1022\n",
      "Which is 100.0  % of the dataset.\n",
      "MSSubClass         0\n",
      "KitchenQual        0\n",
      "KitchenAbvGr       0\n",
      "BedroomAbvGr       0\n",
      "HalfBath           0\n",
      "                ... \n",
      "LotFrontage      188\n",
      "Fence            831\n",
      "Alley            960\n",
      "MiscFeature      983\n",
      "PoolQC          1018\n",
      "Length: 82, dtype: int64\n"
     ]
    }
   ],
   "source": [
    "# Missing Values\n",
    "print(\"Number of lines where at least one value is missing\", sum([True for idx,row in X_train.iterrows() if any(row.isnull())]))\n",
    "print(\"Which is\",sum([True for idx,row in X_train.iterrows() if any(row.isnull())])/len(X_train)*100,\" % of the dataset.\")\n",
    "print(X_train.isnull().sum().sort_values())\n",
    "# Delete Features with too much missing values\n",
    "del X_train[\"Fence\"]\n",
    "del X_train[\"Alley\"]\n",
    "del X_train[\"MiscFeature\"]\n",
    "del X_train[\"PoolQC\"]"
   ]
  },
  {
   "cell_type": "code",
   "execution_count": 21,
   "metadata": {},
   "outputs": [
    {
     "data": {
      "text/plain": [
       "\"\\ncatFeatMode=['Electrical','MSZoning','Exterior1st','Exterior2nd','KitchenQual','SaleType','Functional']\\ndictMode={}\\nfor x in catFeatMode:\\n    if(X_train[x].dtype==np.object):\\n        dictMode[x]=X_train[x].mode()[0]\\n        X_train[x] = np.where(X_train[x].isnull(),dictMode[x],X_train[x])\\n\""
      ]
     },
     "execution_count": 21,
     "metadata": {},
     "output_type": "execute_result"
    }
   ],
   "source": [
    "# Missing values for some categorical features with mode\n",
    "\"\"\"\n",
    "catFeatMode=['Electrical','MSZoning','Exterior1st','Exterior2nd','KitchenQual','SaleType','Functional']\n",
    "dictMode={}\n",
    "for x in catFeatMode:\n",
    "    if(X_train[x].dtype==np.object):\n",
    "        dictMode[x]=X_train[x].mode()[0]\n",
    "        X_train[x] = np.where(X_train[x].isnull(),dictMode[x],X_train[x])\n",
    "\"\"\""
   ]
  },
  {
   "cell_type": "code",
   "execution_count": 22,
   "metadata": {},
   "outputs": [],
   "source": [
    "# Create new category Unknown for missing values in the other cat features\n",
    "for x in X_train.columns:\n",
    "    if(X_train[x].dtype==np.object):\n",
    "        X_train[x] = np.where(X_train[x].isnull(),\"Unknown\",X_train[x])\n",
    "\n",
    "# Put 0 where values are missing for cont and int features\n",
    "X_train=X_train.replace(np.nan,0)"
   ]
  },
  {
   "cell_type": "markdown",
   "metadata": {},
   "source": [
    "- Detection of outliers and suppression of them"
   ]
  },
  {
   "cell_type": "code",
   "execution_count": 23,
   "metadata": {},
   "outputs": [
    {
     "name": "stdout",
     "output_type": "stream",
     "text": [
      "The number of outliers is: 44\n"
     ]
    }
   ],
   "source": [
    "# Be careful to suppress also values in y_train\n",
    "threshold=7\n",
    "X_train['SalePrice']=y_train\n",
    "X_train['outliers']=0\n",
    "for x in X_train.columns:\n",
    "    if(X_train[x].dtype!=np.object and x!='outliers' and x!='SalePrice'):\n",
    "        X_train.loc[(X_train[x]-X_train[x].mean()).abs() > threshold*X_train[x].std(),'outliers'] = 1\n",
    "\n",
    "print(\"The number of outliers is:\",sum(X_train['outliers']))\n",
    "X_train=X_train[X_train.outliers==0].reset_index(drop=True)\n",
    "y_train=X_train['SalePrice'].values\n",
    "del X_train[\"SalePrice\"]\n",
    "del X_train[\"outliers\"]"
   ]
  },
  {
   "cell_type": "markdown",
   "metadata": {},
   "source": [
    "- OneHotEncoding on categorical features"
   ]
  },
  {
   "cell_type": "code",
   "execution_count": 24,
   "metadata": {},
   "outputs": [
    {
     "name": "stdout",
     "output_type": "stream",
     "text": [
      "(978, 239)\n"
     ]
    }
   ],
   "source": [
    "# Separate cat and float features to do a onehotencoding on cat features\n",
    "X_traintemp=X_train.select_dtypes('object')\n",
    "enc=OneHotEncoder(handle_unknown = 'ignore')\n",
    "enc.fit(X_traintemp)\n",
    "X_traintemp=enc.transform(X_traintemp).toarray()\n",
    "X_train=np.concatenate([X_traintemp,X_train.select_dtypes('float64').values],axis=1)\n",
    "print(X_train.shape)"
   ]
  },
  {
   "cell_type": "markdown",
   "metadata": {},
   "source": [
    "#### Model"
   ]
  },
  {
   "cell_type": "code",
   "execution_count": 25,
   "metadata": {},
   "outputs": [],
   "source": [
    "# Choice of the model\n",
    "regressor=xgb.XGBRegressor()\n",
    "#regressor = xgb.XGBRegressor(colsample_bytree = 0.8, learning_rate = 0.01,max_depth = 3,n_estimators = 1000)"
   ]
  },
  {
   "cell_type": "markdown",
   "metadata": {},
   "source": [
    "#### PCA"
   ]
  },
  {
   "cell_type": "markdown",
   "metadata": {},
   "source": [
    "- Cross-validation (without k-fold)"
   ]
  },
  {
   "cell_type": "code",
   "execution_count": 26,
   "metadata": {
    "scrolled": true
   },
   "outputs": [
    {
     "data": {
      "text/plain": [
       "'\\ncv_hyperp_pca=[2*i for i in range(2,50)]\\n\\nbestparams=[-1]\\nminRMSE=1000000000\\n\\nfor i in cv_hyperp_pca:\\n    X_cv=X_train\\n    y_cv=y_train\\n    X_cv_train, X_cv_test, y_cv_train, y_cv_test = train_test_split(X_cv, y_cv, test_size=0.3, random_state=1)\\n    pca = PCA(n_components=i)\\n    pca.fit(X_cv_train)\\n    X_cv_train=pca.transform(X_cv_train)\\n    X_cv_test=pca.transform(X_cv_test)\\n\\n    regressor.fit(X_cv_train, y_cv_train)\\n    y_cv_train_pred=regressor.predict(X_cv_train)\\n    y_cv_test_pred=regressor.predict(X_cv_test)\\n    localRMSE=np.sqrt(metrics.mean_squared_log_error(np.maximum(y_cv_test_pred,0),np.maximum(y_cv_test,0)))\\n    print(\"Accuracy for param PCA dim\", i,\"RMSLE %.3f\" % localRMSE,\"MSE %.0f\" % np.sqrt(metrics.mean_squared_error(y_cv_test_pred,y_cv_test)))\\n    if localRMSE<minRMSE:\\n        minRMSE=localRMSE\\n        bestparams=[i]\\n        \\nprint(\"\\n\")\\nprint(\"Best params: PCA dim\", bestparams[0])\\ndim_pca=bestparams[0]\\n'"
      ]
     },
     "execution_count": 26,
     "metadata": {},
     "output_type": "execute_result"
    }
   ],
   "source": [
    "\"\"\"\n",
    "cv_hyperp_pca=[2*i for i in range(2,50)]\n",
    "\n",
    "bestparams=[-1]\n",
    "minRMSE=1000000000\n",
    "\n",
    "for i in cv_hyperp_pca:\n",
    "    X_cv=X_train\n",
    "    y_cv=y_train\n",
    "    X_cv_train, X_cv_test, y_cv_train, y_cv_test = train_test_split(X_cv, y_cv, test_size=0.3, random_state=1)\n",
    "    pca = PCA(n_components=i)\n",
    "    pca.fit(X_cv_train)\n",
    "    X_cv_train=pca.transform(X_cv_train)\n",
    "    X_cv_test=pca.transform(X_cv_test)\n",
    "\n",
    "    regressor.fit(X_cv_train, y_cv_train)\n",
    "    y_cv_train_pred=regressor.predict(X_cv_train)\n",
    "    y_cv_test_pred=regressor.predict(X_cv_test)\n",
    "    localRMSE=np.sqrt(metrics.mean_squared_log_error(np.maximum(y_cv_test_pred,0),np.maximum(y_cv_test,0)))\n",
    "    print(\"Accuracy for param PCA dim\", i,\"RMSLE %.3f\" % localRMSE,\"MSE %.0f\" % np.sqrt(metrics.mean_squared_error(y_cv_test_pred,y_cv_test)))\n",
    "    if localRMSE<minRMSE:\n",
    "        minRMSE=localRMSE\n",
    "        bestparams=[i]\n",
    "        \n",
    "print(\"\\n\")\n",
    "print(\"Best params: PCA dim\", bestparams[0])\n",
    "dim_pca=bestparams[0]\n",
    "\"\"\""
   ]
  },
  {
   "cell_type": "markdown",
   "metadata": {},
   "source": [
    "- Preprocess test"
   ]
  },
  {
   "cell_type": "code",
   "execution_count": 27,
   "metadata": {},
   "outputs": [
    {
     "name": "stdout",
     "output_type": "stream",
     "text": [
      "(978, 239) (438, 239)\n"
     ]
    }
   ],
   "source": [
    "# Mean normalization\n",
    "for x in X_test.columns:\n",
    "    if (X_test[x].dtype!=np.object):\n",
    "        X_test[x]=(X_test[x]-dictMeanStd[x][0])/dictMeanStd[x][1]\n",
    "\n",
    "# Missing Values\n",
    "del X_test[\"Fence\"]\n",
    "del X_test[\"Alley\"]\n",
    "del X_test[\"MiscFeature\"]\n",
    "del X_test[\"PoolQC\"]\n",
    "\n",
    "\"\"\"\n",
    "for x in catFeatMode:\n",
    "    if(X_test[x].dtype==np.object):\n",
    "        X_test[x] = np.where(X_test[x].isnull(),dictMode[x],X_test[x])\n",
    "\"\"\"\n",
    "for x in X_test.columns:\n",
    "    if(X_test[x].dtype==np.object):\n",
    "        X_test[x] = np.where(X_test[x].isnull(),\"Unknown\",X_test[x])\n",
    "\n",
    "X_test=X_test.replace(np.nan,0)\n",
    "\n",
    "# One Hot Encoding\n",
    "X_testtemp=X_test.select_dtypes('object')\n",
    "X_testtemp=enc.transform(X_testtemp).toarray()\n",
    "X_test=np.concatenate([X_testtemp,X_test.select_dtypes('float64').values],axis=1)\n",
    "print(X_train.shape,X_test.shape)"
   ]
  },
  {
   "cell_type": "markdown",
   "metadata": {},
   "source": [
    "- PCA"
   ]
  },
  {
   "cell_type": "code",
   "execution_count": 28,
   "metadata": {},
   "outputs": [
    {
     "data": {
      "text/plain": [
       "'\\npca = PCA(n_components=dim_pca)\\npca.fit(X_train)\\nX_train=pca.transform(X_train)\\nX_test=pca.transform(X_test)\\n'"
      ]
     },
     "execution_count": 28,
     "metadata": {},
     "output_type": "execute_result"
    }
   ],
   "source": [
    "# PCA\n",
    "\"\"\"\n",
    "pca = PCA(n_components=dim_pca)\n",
    "pca.fit(X_train)\n",
    "X_train=pca.transform(X_train)\n",
    "X_test=pca.transform(X_test)\n",
    "\"\"\""
   ]
  },
  {
   "cell_type": "markdown",
   "metadata": {},
   "source": [
    "- CV for hyperparam of the model"
   ]
  },
  {
   "cell_type": "code",
   "execution_count": 29,
   "metadata": {},
   "outputs": [
    {
     "data": {
      "text/plain": [
       "\"\\nregressor = RandomForestRegressor()\\nparam_grid = {'n_estimators': [5*i for i in range(1,10)], 'max_depth': [2*i for i in range(1,8)], 'criterion': ['mse', 'mae']}\\ngrid_clf = GridSearchCV(regressor, param_grid, cv=10)\\ngrid_clf.fit(X_train, y_train)\\nprint('Best parameters :', grid_clf.best_params_)\""
      ]
     },
     "execution_count": 29,
     "metadata": {},
     "output_type": "execute_result"
    }
   ],
   "source": [
    "# CV\n",
    "\"\"\"\n",
    "regressor = RandomForestRegressor()\n",
    "param_grid = {'n_estimators': [5*i for i in range(1,10)], 'max_depth': [2*i for i in range(1,8)], 'criterion': ['mse', 'mae']}\n",
    "grid_clf = GridSearchCV(regressor, param_grid, cv=10)\n",
    "grid_clf.fit(X_train, y_train)\n",
    "print('Best parameters :', grid_clf.best_params_)\"\"\""
   ]
  },
  {
   "cell_type": "markdown",
   "metadata": {},
   "source": [
    "- Fitting the model"
   ]
  },
  {
   "cell_type": "code",
   "execution_count": 30,
   "metadata": {},
   "outputs": [
    {
     "name": "stdout",
     "output_type": "stream",
     "text": [
      "100%|██████████| 20/20 [11:26<00:00, 34.34s/trial, best loss: 0.013638348195049143]\n"
     ]
    }
   ],
   "source": [
    "space = {'n_estimators':hp.quniform('n_estimators', 1000, 4000, 100),\n",
    "         'gamma':hp.uniform('gamma', 0.01, 0.05),\n",
    "         'learning_rate':hp.uniform('learning_rate', 0.00001, 0.025),\n",
    "         'max_depth':hp.quniform('max_depth', 3,7,1),\n",
    "         'subsample':hp.uniform('subsample', 0.60, 0.95),\n",
    "         'colsample_bytree':hp.uniform('colsample_bytree', 0.60, 0.98),\n",
    "         'colsample_bylevel':hp.uniform('colsample_bylevel', 0.60, 0.98),\n",
    "         'reg_lambda': hp.uniform('reg_lambda', 1, 20)\n",
    "        }\n",
    "\n",
    "def objective(params):\n",
    "    params = {'n_estimators': int(params['n_estimators']),\n",
    "             'gamma': params['gamma'],\n",
    "             'learning_rate': params['learning_rate'],\n",
    "             'max_depth': int(params['max_depth']),\n",
    "             'subsample': params['subsample'],\n",
    "             'colsample_bytree': params['colsample_bytree'],\n",
    "             'colsample_bylevel': params['colsample_bylevel'],\n",
    "             'reg_lambda': params['reg_lambda']}\n",
    "    \n",
    "    xb_a= xgb.XGBRegressor(**params)\n",
    "    score = cross_val_score(xb_a, X_train, y_train, scoring='neg_mean_squared_error', cv=5, n_jobs=-1).mean()\n",
    "    return -score\n",
    "\n",
    "best = fmin(fn= objective, space= space, max_evals=20, rstate=np.random.RandomState(1), algo=tpe.suggest)\n",
    "\n",
    "regressor = xgb.XGBRegressor(random_state=0,\n",
    "                        n_estimators=int(best['n_estimators']), \n",
    "                        colsample_bytree= best['colsample_bytree'],\n",
    "                        gamma= best['gamma'],\n",
    "                        learning_rate= best['learning_rate'],\n",
    "                        max_depth= int(best['max_depth']),\n",
    "                        subsample= best['subsample'],\n",
    "                        colsample_bylevel= best['colsample_bylevel'],\n",
    "                        reg_lambda= best['reg_lambda']\n",
    "                       )"
   ]
  },
  {
   "cell_type": "code",
   "execution_count": 31,
   "metadata": {},
   "outputs": [
    {
     "data": {
      "text/plain": [
       "XGBRegressor(base_score=0.5, booster='gbtree',\n",
       "             colsample_bylevel=0.6020946617238414, colsample_bynode=1,\n",
       "             colsample_bytree=0.7872059560039623, gamma=0.011461779602481683,\n",
       "             gpu_id=-1, importance_type='gain', interaction_constraints='',\n",
       "             learning_rate=0.01590800161825219, max_delta_step=0, max_depth=5,\n",
       "             min_child_weight=1, missing=nan, monotone_constraints='()',\n",
       "             n_estimators=3500, n_jobs=8, num_parallel_tree=1, random_state=0,\n",
       "             reg_alpha=0, reg_lambda=15.038708861729809, scale_pos_weight=1,\n",
       "             subsample=0.7106509085449073, tree_method='exact',\n",
       "             validate_parameters=1, verbosity=None)"
      ]
     },
     "execution_count": 31,
     "metadata": {},
     "output_type": "execute_result"
    }
   ],
   "source": [
    "#regressor = RandomForestRegressor(max_depth=grid_clf.best_params_['max_depth'],n_estimators=grid_clf.best_params_['n_estimators'],criterion=grid_clf.best_params_['criterion'])\n",
    "regressor.fit(X_train, y_train)"
   ]
  },
  {
   "cell_type": "code",
   "execution_count": 32,
   "metadata": {},
   "outputs": [
    {
     "name": "stdout",
     "output_type": "stream",
     "text": [
      "RMSLE on the train: 0.003310407745456165\n",
      "RMSLE on the test: 0.010882362871720291\n"
     ]
    }
   ],
   "source": [
    "y_train_pred=regressor.predict(X_train)\n",
    "y_train_pred=np.maximum(y_train_pred,0) # If some coordinates are negatives\n",
    "print(\"RMSLE on the train:\", np.sqrt(metrics.mean_squared_log_error(y_train_pred,y_train)))\n",
    "y_pred=regressor.predict(X_test)\n",
    "y_pred=np.maximum(y_pred,0) # If some coordinates are negatives\n",
    "print(\"RMSLE on the test:\", np.sqrt(metrics.mean_squared_log_error(y_pred,y_test)))"
   ]
  },
  {
   "cell_type": "markdown",
   "metadata": {},
   "source": [
    "# Submission part"
   ]
  },
  {
   "cell_type": "code",
   "execution_count": 33,
   "metadata": {},
   "outputs": [],
   "source": [
    "# Import submission\n",
    "sub=pd.read_csv (r'C:\\Users\\phili\\Documents\\Machine Learning\\Kaggle\\House Prices\\test.csv')\n",
    "del sub[\"Id\"]"
   ]
  },
  {
   "cell_type": "code",
   "execution_count": 34,
   "metadata": {},
   "outputs": [],
   "source": [
    "sub['TotalSF'] = sub['GrLivArea']+sub['TotalBsmtSF']\n",
    "sub['TotalBaths'] = sub['FullBath']+.5*sub['HalfBath']\n",
    "\n",
    "sub[\"MSSubClass\"] = sub[\"MSSubClass\"].astype(str)\n",
    "sub[\"YrSold\"] = sub[\"YrSold\"].astype(str)\n",
    "sub[\"MoSold\"] = sub[\"MoSold\"].astype(str)\n",
    "\n",
    "newcol=[]\n",
    "for i in range(len(sub[\"YearRemodAdd\"])):\n",
    "    if sub[\"YearRemodAdd\"][i]!=sub[\"YearRemodAdd\"][i] or sub[\"YearBuilt\"][i]!=sub[\"YearBuilt\"][i]:\n",
    "        newcol.append(np.nan)\n",
    "    else:\n",
    "        if sub[\"YearRemodAdd\"][i]==sub[\"YearBuilt\"][i]:\n",
    "            newcol.append(0)\n",
    "        else:\n",
    "            newcol.append(1)\n",
    "sub[\"Remodornot\"]=newcol\n",
    "\n",
    "for i in range(len(sub[\"FireplaceQu\"])):\n",
    "    if sub[\"Fireplaces\"][i]==0:\n",
    "        sub[\"FireplaceQu\"][i]=\"NA\"\n",
    "\n",
    "\"\"\"\n",
    "for i in range(len(sub[\"GarageCond\"])):\n",
    "    if sub[\"GarageCond\"][i]!=sub[\"GarageCond\"][i]:\n",
    "        sub[\"GarageCond\"][i]=\"NA\"\n",
    "        sub[\"GarageQual\"][i]=\"NA\"\n",
    "        sub[\"GarageFinish\"][i]=\"NA\"\n",
    "        sub[\"GarageType\"][i]=\"NA\"\n",
    "\"\"\"\n",
    "\n",
    "sub[\"ExterQual\"]=labelenc(sub[\"ExterQual\"].values,[\"Po\",\"Fa\",\"TA\",\"Gd\",\"Ex\"])\n",
    "sub[\"LotShape\"]=labelenc(sub[\"LotShape\"].values,[\"IR3\",\"IR2\",\"IR1\",\"Reg\"])\n",
    "sub[\"Utilities\"]=labelenc(sub[\"Utilities\"].values,[\"ELO\",\"NoSeWa\",\"NoSewr\",\"AllPub\"])\n",
    "#sub[\"LotConfig\"]=labelenc(sub[\"LotConfig\"].values,[\"FR3\",\"FR2\",\"CulDSac\",\"Corner\",\"Inside\"])\n",
    "sub[\"LandSlope\"]=labelenc(sub[\"LandSlope\"].values,[\"Sev\",\"Mod\",'Gtl'])\n",
    "sub[\"ExterCond\"]=labelenc(sub[\"ExterCond\"].values,[\"Po\",\"Fa\",\"TA\",\"Gd\",\"Ex\"])\n",
    "sub[\"BsmtQual\"]=labelenc(sub[\"BsmtQual\"].values,[\"NA\",\"Po\",\"Fa\",\"TA\",\"Gd\",\"Ex\"])\n",
    "sub[\"BsmtCond\"]=labelenc(sub[\"BsmtCond\"].values,[\"NA\",\"Po\",\"Fa\",\"TA\",\"Gd\",\"Ex\"])\n",
    "sub[\"BsmtExposure\"]=labelenc(sub[\"BsmtExposure\"].values,[\"NA\",\"No\",\"Mn\",\"Av\",\"Gd\"])\n",
    "sub[\"BsmtFinType1\"]=labelenc(sub[\"BsmtFinType1\"].values,[\"NA\",\"Unf\",\"LwQ\",\"Rec\",\"BLQ\",\"ALQ\",\"GLQ\"])\n",
    "sub[\"BsmtFinType2\"]=labelenc(sub[\"BsmtFinType2\"].values,[\"NA\",\"Unf\",\"LwQ\",\"Rec\",\"BLQ\",\"ALQ\",\"GLQ\"])\n",
    "sub[\"HeatingQC\"]=labelenc(sub[\"HeatingQC\"].values,[\"Po\",\"Fa\",\"TA\",\"Gd\",\"Ex\"])\n",
    "#sub[\"Electrical\"]=labelenc(sub[\"Electrical\"].values,[\"Mix\",\"FuseP\",\"FuseF\",\"FuseA\",\"SBrkr\"])\n",
    "sub[\"KitchenQual\"]=labelenc(sub[\"KitchenQual\"].values,[\"Po\",\"Fa\",\"TA\",\"Gd\",\"Ex\"])\n",
    "sub[\"Functional\"]=labelenc(sub[\"Functional\"].values,[\"Sal\",\"Sev\",\"Maj2\",\"Maj1\",\"Mod\",\"Min2\",\"Min1\",\"Typ\"])\n",
    "sub[\"FireplaceQu\"]=labelenc(sub[\"FireplaceQu\"].values,[\"NA\",\"Po\",\"Fa\",\"TA\",\"Gd\",\"Ex\"])\n",
    "sub[\"GarageFinish\"]=labelenc(sub[\"GarageFinish\"].values,[\"NA\",\"Unf\",\"RFn\",\"Fin\"])\n",
    "sub[\"GarageQual\"]=labelenc(sub[\"GarageQual\"].values,[\"NA\",\"Po\",\"Fa\",\"TA\",\"Gd\",\"Ex\"])\n",
    "sub[\"GarageCond\"]=labelenc(sub[\"GarageCond\"].values,[\"NA\",\"Po\",\"Fa\",\"TA\",\"Gd\",\"Ex\"])\n",
    "sub[\"PavedDrive\"]=labelenc(sub[\"PavedDrive\"].values,[\"N\",\"P\",\"Y\"])\n",
    "sub[\"CentralAir\"]=labelenc(sub[\"CentralAir\"].values,[\"N\",\"Y\"])\n",
    "\n",
    "for x in df.columns:\n",
    "    if(df[x].dtype==np.int64):\n",
    "        df[x]=df[x].astype(float) # if we want to transform all the int features to float features\n",
    "\n",
    "# Mean normalization\n",
    "for x in sub.columns:\n",
    "    if (sub[x].dtype!=np.object):\n",
    "        sub[x]=(sub[x]-dictMeanStd[x][0])/dictMeanStd[x][1]\n",
    "# Missing Values\n",
    "del sub[\"Fence\"]\n",
    "del sub[\"Alley\"]\n",
    "del sub[\"MiscFeature\"]\n",
    "del sub[\"PoolQC\"]\n",
    "\n",
    "\"\"\"\n",
    "for x in catFeatMode:\n",
    "    if(sub[x].dtype==np.object):\n",
    "        sub[x] = np.where(sub[x].isnull(),dictMode[x],sub[x])\n",
    "\"\"\"\n",
    "for x in sub.columns:\n",
    "    if(sub[x].dtype==np.object):\n",
    "        sub[x] = np.where(sub[x].isnull(),\"Unknown\",sub[x])\n",
    "sub=sub.replace(np.nan,0)\n",
    "\n",
    "# One Hot Encoding\n",
    "subtemp=sub.select_dtypes('object')\n",
    "subtemp=enc.transform(subtemp).toarray()\n",
    "sub=np.concatenate([subtemp,sub.select_dtypes('float64').values],axis=1)\n",
    "# PCA\n",
    "#sub=pca.transform(sub)"
   ]
  },
  {
   "cell_type": "code",
   "execution_count": 35,
   "metadata": {},
   "outputs": [],
   "source": [
    "# Predict\n",
    "y_submission_pred=regressor.predict(sub)\n",
    "y_submission_pred=np.maximum(y_submission_pred,0)\n",
    "# Export\n",
    "#CHANGE AS NEEDED\n",
    "export=pd.read_csv (r'C:\\Users\\phili\\Documents\\Machine Learning\\Kaggle\\House Prices\\test.csv')\n",
    "export=pd.DataFrame(export[\"Id\"])\n",
    "y_submission_pred=(np.expm1(y_submission_pred))\n",
    "export[\"SalePrice\"]=y_submission_pred\n",
    "export.to_csv (r'C:\\Users\\phili\\Documents\\Machine Learning\\Kaggle\\House Prices\\export_sub.csv', index = False, header=True)"
   ]
  },
  {
   "cell_type": "code",
   "execution_count": null,
   "metadata": {},
   "outputs": [],
   "source": []
  }
 ],
 "metadata": {
  "kernelspec": {
   "display_name": "Python 3",
   "language": "python",
   "name": "python3"
  },
  "language_info": {
   "codemirror_mode": {
    "name": "ipython",
    "version": 3
   },
   "file_extension": ".py",
   "mimetype": "text/x-python",
   "name": "python",
   "nbconvert_exporter": "python",
   "pygments_lexer": "ipython3",
   "version": "3.8.3"
  }
 },
 "nbformat": 4,
 "nbformat_minor": 4
}
